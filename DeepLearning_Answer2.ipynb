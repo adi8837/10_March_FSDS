{
 "cells": [
  {
   "cell_type": "code",
   "execution_count": 1,
   "metadata": {
    "id": "pELLUNVzJWB6"
   },
   "outputs": [
    {
     "name": "stdout",
     "output_type": "stream",
     "text": [
      "WARNING:tensorflow:From C:\\Users\\aditya.ghoshal\\AppData\\Local\\anaconda3\\Lib\\site-packages\\keras\\src\\losses.py:2976: The name tf.losses.sparse_softmax_cross_entropy is deprecated. Please use tf.compat.v1.losses.sparse_softmax_cross_entropy instead.\n",
      "\n"
     ]
    }
   ],
   "source": [
    "import tensorflow\n",
    "from tensorflow import keras\n",
    "from tensorflow.keras import Sequential\n",
    "from tensorflow.keras.layers import Dense,Flatten"
   ]
  },
  {
   "cell_type": "code",
   "execution_count": 1,
   "metadata": {},
   "outputs": [
    {
     "name": "stdout",
     "output_type": "stream",
     "text": [
      "Collecting tensorflow\n",
      "  Obtaining dependency information for tensorflow from https://files.pythonhosted.org/packages/93/21/9b035a4f823d6aee2917c75415be9a95861ff3d73a0a65e48edbf210cec1/tensorflow-2.15.0-cp311-cp311-win_amd64.whl.metadata\n",
      "  Using cached tensorflow-2.15.0-cp311-cp311-win_amd64.whl.metadata (3.6 kB)\n",
      "Collecting tensorflow-intel==2.15.0 (from tensorflow)\n",
      "  Obtaining dependency information for tensorflow-intel==2.15.0 from https://files.pythonhosted.org/packages/4c/48/1a5a15517f18eaa4ff8d598b1c000300b20c1bb0e624539d702117a0c369/tensorflow_intel-2.15.0-cp311-cp311-win_amd64.whl.metadata\n",
      "  Using cached tensorflow_intel-2.15.0-cp311-cp311-win_amd64.whl.metadata (5.1 kB)\n",
      "Collecting absl-py>=1.0.0 (from tensorflow-intel==2.15.0->tensorflow)\n",
      "  Obtaining dependency information for absl-py>=1.0.0 from https://files.pythonhosted.org/packages/a2/ad/e0d3c824784ff121c03cc031f944bc7e139a8f1870ffd2845cc2dd76f6c4/absl_py-2.1.0-py3-none-any.whl.metadata\n",
      "  Using cached absl_py-2.1.0-py3-none-any.whl.metadata (2.3 kB)\n",
      "Collecting astunparse>=1.6.0 (from tensorflow-intel==2.15.0->tensorflow)\n",
      "  Using cached astunparse-1.6.3-py2.py3-none-any.whl (12 kB)\n",
      "Collecting flatbuffers>=23.5.26 (from tensorflow-intel==2.15.0->tensorflow)\n",
      "  Obtaining dependency information for flatbuffers>=23.5.26 from https://files.pythonhosted.org/packages/6f/12/d5c79ee252793ffe845d58a913197bfa02ae9a0b5c9bc3dc4b58d477b9e7/flatbuffers-23.5.26-py2.py3-none-any.whl.metadata\n",
      "  Using cached flatbuffers-23.5.26-py2.py3-none-any.whl.metadata (850 bytes)\n",
      "Collecting gast!=0.5.0,!=0.5.1,!=0.5.2,>=0.2.1 (from tensorflow-intel==2.15.0->tensorflow)\n",
      "  Obtaining dependency information for gast!=0.5.0,!=0.5.1,!=0.5.2,>=0.2.1 from https://files.pythonhosted.org/packages/fa/39/5aae571e5a5f4de9c3445dae08a530498e5c53b0e74410eeeb0991c79047/gast-0.5.4-py3-none-any.whl.metadata\n",
      "  Using cached gast-0.5.4-py3-none-any.whl.metadata (1.3 kB)\n",
      "Collecting google-pasta>=0.1.1 (from tensorflow-intel==2.15.0->tensorflow)\n",
      "  Using cached google_pasta-0.2.0-py3-none-any.whl (57 kB)\n",
      "Requirement already satisfied: h5py>=2.9.0 in c:\\users\\aditya.ghoshal\\appdata\\local\\anaconda3\\lib\\site-packages (from tensorflow-intel==2.15.0->tensorflow) (3.9.0)\n",
      "Collecting libclang>=13.0.0 (from tensorflow-intel==2.15.0->tensorflow)\n",
      "  Obtaining dependency information for libclang>=13.0.0 from https://files.pythonhosted.org/packages/02/8c/dc970bc00867fe290e8c8a7befa1635af716a9ebdfe3fb9dce0ca4b522ce/libclang-16.0.6-py2.py3-none-win_amd64.whl.metadata\n",
      "  Using cached libclang-16.0.6-py2.py3-none-win_amd64.whl.metadata (5.3 kB)\n",
      "Collecting ml-dtypes~=0.2.0 (from tensorflow-intel==2.15.0->tensorflow)\n",
      "  Obtaining dependency information for ml-dtypes~=0.2.0 from https://files.pythonhosted.org/packages/08/89/c727fde1a3d12586e0b8c01abf53754707d76beaa9987640e70807d4545f/ml_dtypes-0.2.0-cp311-cp311-win_amd64.whl.metadata\n",
      "  Using cached ml_dtypes-0.2.0-cp311-cp311-win_amd64.whl.metadata (20 kB)\n",
      "Requirement already satisfied: numpy<2.0.0,>=1.23.5 in c:\\users\\aditya.ghoshal\\appdata\\local\\anaconda3\\lib\\site-packages (from tensorflow-intel==2.15.0->tensorflow) (1.24.3)\n",
      "Collecting opt-einsum>=2.3.2 (from tensorflow-intel==2.15.0->tensorflow)\n",
      "  Obtaining dependency information for opt-einsum>=2.3.2 from https://files.pythonhosted.org/packages/bc/19/404708a7e54ad2798907210462fd950c3442ea51acc8790f3da48d2bee8b/opt_einsum-3.3.0-py3-none-any.whl.metadata\n",
      "  Using cached opt_einsum-3.3.0-py3-none-any.whl.metadata (6.5 kB)\n",
      "Requirement already satisfied: packaging in c:\\users\\aditya.ghoshal\\appdata\\local\\anaconda3\\lib\\site-packages (from tensorflow-intel==2.15.0->tensorflow) (23.1)\n",
      "Collecting protobuf!=4.21.0,!=4.21.1,!=4.21.2,!=4.21.3,!=4.21.4,!=4.21.5,<5.0.0dev,>=3.20.3 (from tensorflow-intel==2.15.0->tensorflow)\n",
      "  Obtaining dependency information for protobuf!=4.21.0,!=4.21.1,!=4.21.2,!=4.21.3,!=4.21.4,!=4.21.5,<5.0.0dev,>=3.20.3 from https://files.pythonhosted.org/packages/ad/6e/1bed3b7c904cc178cb8ee8dbaf72934964452b3de95b7a63412591edb93c/protobuf-4.25.3-cp310-abi3-win_amd64.whl.metadata\n",
      "  Using cached protobuf-4.25.3-cp310-abi3-win_amd64.whl.metadata (541 bytes)\n",
      "Requirement already satisfied: setuptools in c:\\users\\aditya.ghoshal\\appdata\\local\\anaconda3\\lib\\site-packages (from tensorflow-intel==2.15.0->tensorflow) (68.0.0)\n",
      "Requirement already satisfied: six>=1.12.0 in c:\\users\\aditya.ghoshal\\appdata\\local\\anaconda3\\lib\\site-packages (from tensorflow-intel==2.15.0->tensorflow) (1.16.0)\n",
      "Collecting termcolor>=1.1.0 (from tensorflow-intel==2.15.0->tensorflow)\n",
      "  Obtaining dependency information for termcolor>=1.1.0 from https://files.pythonhosted.org/packages/d9/5f/8c716e47b3a50cbd7c146f45881e11d9414def768b7cd9c5e6650ec2a80a/termcolor-2.4.0-py3-none-any.whl.metadata\n",
      "  Using cached termcolor-2.4.0-py3-none-any.whl.metadata (6.1 kB)\n",
      "Requirement already satisfied: typing-extensions>=3.6.6 in c:\\users\\aditya.ghoshal\\appdata\\local\\anaconda3\\lib\\site-packages (from tensorflow-intel==2.15.0->tensorflow) (4.7.1)\n",
      "Requirement already satisfied: wrapt<1.15,>=1.11.0 in c:\\users\\aditya.ghoshal\\appdata\\local\\anaconda3\\lib\\site-packages (from tensorflow-intel==2.15.0->tensorflow) (1.14.1)\n",
      "Collecting tensorflow-io-gcs-filesystem>=0.23.1 (from tensorflow-intel==2.15.0->tensorflow)\n",
      "  Obtaining dependency information for tensorflow-io-gcs-filesystem>=0.23.1 from https://files.pythonhosted.org/packages/ac/4e/9566a313927be582ca99455a9523a097c7888fc819695bdc08415432b202/tensorflow_io_gcs_filesystem-0.31.0-cp311-cp311-win_amd64.whl.metadata\n",
      "  Using cached tensorflow_io_gcs_filesystem-0.31.0-cp311-cp311-win_amd64.whl.metadata (14 kB)\n",
      "Collecting grpcio<2.0,>=1.24.3 (from tensorflow-intel==2.15.0->tensorflow)\n",
      "  Obtaining dependency information for grpcio<2.0,>=1.24.3 from https://files.pythonhosted.org/packages/02/2b/f1a3b06576a33f3a5b7b2f53cafaf3c2f11a1886c1ae7056ae17e82e4573/grpcio-1.62.0-cp311-cp311-win_amd64.whl.metadata\n",
      "  Using cached grpcio-1.62.0-cp311-cp311-win_amd64.whl.metadata (4.2 kB)\n",
      "Collecting tensorboard<2.16,>=2.15 (from tensorflow-intel==2.15.0->tensorflow)\n",
      "  Obtaining dependency information for tensorboard<2.16,>=2.15 from https://files.pythonhosted.org/packages/37/12/f6e9b9dcc310263cbd3948274e286538bd6800fd0c268850788f14a0c6d0/tensorboard-2.15.2-py3-none-any.whl.metadata\n",
      "  Using cached tensorboard-2.15.2-py3-none-any.whl.metadata (1.7 kB)\n",
      "Collecting tensorflow-estimator<2.16,>=2.15.0 (from tensorflow-intel==2.15.0->tensorflow)\n",
      "  Obtaining dependency information for tensorflow-estimator<2.16,>=2.15.0 from https://files.pythonhosted.org/packages/b6/c8/2f823c8958d5342eafc6dd3e922f0cc4fcf8c2e0460284cc462dae3b60a0/tensorflow_estimator-2.15.0-py2.py3-none-any.whl.metadata\n",
      "  Using cached tensorflow_estimator-2.15.0-py2.py3-none-any.whl.metadata (1.3 kB)\n",
      "Collecting keras<2.16,>=2.15.0 (from tensorflow-intel==2.15.0->tensorflow)\n",
      "  Obtaining dependency information for keras<2.16,>=2.15.0 from https://files.pythonhosted.org/packages/fc/a7/0d4490de967a67f68a538cc9cdb259bff971c4b5787f7765dc7c8f118f71/keras-2.15.0-py3-none-any.whl.metadata\n",
      "  Using cached keras-2.15.0-py3-none-any.whl.metadata (2.4 kB)\n",
      "Requirement already satisfied: wheel<1.0,>=0.23.0 in c:\\users\\aditya.ghoshal\\appdata\\local\\anaconda3\\lib\\site-packages (from astunparse>=1.6.0->tensorflow-intel==2.15.0->tensorflow) (0.38.4)\n",
      "Collecting google-auth<3,>=1.6.3 (from tensorboard<2.16,>=2.15->tensorflow-intel==2.15.0->tensorflow)\n",
      "  Obtaining dependency information for google-auth<3,>=1.6.3 from https://files.pythonhosted.org/packages/b7/1d/f152a5f6d243b6acbb2a710ed19aa47154d678359bed995abdd9daf0cff0/google_auth-2.28.1-py2.py3-none-any.whl.metadata\n",
      "  Using cached google_auth-2.28.1-py2.py3-none-any.whl.metadata (4.7 kB)\n",
      "Collecting google-auth-oauthlib<2,>=0.5 (from tensorboard<2.16,>=2.15->tensorflow-intel==2.15.0->tensorflow)\n",
      "  Obtaining dependency information for google-auth-oauthlib<2,>=0.5 from https://files.pythonhosted.org/packages/71/bf/9e125754d1adb3bc4bd206c4e5df756513b1d23675ac06caa471278d1f3f/google_auth_oauthlib-1.2.0-py2.py3-none-any.whl.metadata\n",
      "  Using cached google_auth_oauthlib-1.2.0-py2.py3-none-any.whl.metadata (2.7 kB)\n",
      "Requirement already satisfied: markdown>=2.6.8 in c:\\users\\aditya.ghoshal\\appdata\\local\\anaconda3\\lib\\site-packages (from tensorboard<2.16,>=2.15->tensorflow-intel==2.15.0->tensorflow) (3.4.1)\n",
      "Requirement already satisfied: requests<3,>=2.21.0 in c:\\users\\aditya.ghoshal\\appdata\\local\\anaconda3\\lib\\site-packages (from tensorboard<2.16,>=2.15->tensorflow-intel==2.15.0->tensorflow) (2.31.0)\n",
      "Collecting tensorboard-data-server<0.8.0,>=0.7.0 (from tensorboard<2.16,>=2.15->tensorflow-intel==2.15.0->tensorflow)\n",
      "  Obtaining dependency information for tensorboard-data-server<0.8.0,>=0.7.0 from https://files.pythonhosted.org/packages/7a/13/e503968fefabd4c6b2650af21e110aa8466fe21432cd7c43a84577a89438/tensorboard_data_server-0.7.2-py3-none-any.whl.metadata\n",
      "  Using cached tensorboard_data_server-0.7.2-py3-none-any.whl.metadata (1.1 kB)\n",
      "Requirement already satisfied: werkzeug>=1.0.1 in c:\\users\\aditya.ghoshal\\appdata\\local\\anaconda3\\lib\\site-packages (from tensorboard<2.16,>=2.15->tensorflow-intel==2.15.0->tensorflow) (2.2.3)\n",
      "Collecting cachetools<6.0,>=2.0.0 (from google-auth<3,>=1.6.3->tensorboard<2.16,>=2.15->tensorflow-intel==2.15.0->tensorflow)\n",
      "  Obtaining dependency information for cachetools<6.0,>=2.0.0 from https://files.pythonhosted.org/packages/fb/2b/a64c2d25a37aeb921fddb929111413049fc5f8b9a4c1aefaffaafe768d54/cachetools-5.3.3-py3-none-any.whl.metadata\n",
      "  Using cached cachetools-5.3.3-py3-none-any.whl.metadata (5.3 kB)\n",
      "Requirement already satisfied: pyasn1-modules>=0.2.1 in c:\\users\\aditya.ghoshal\\appdata\\local\\anaconda3\\lib\\site-packages (from google-auth<3,>=1.6.3->tensorboard<2.16,>=2.15->tensorflow-intel==2.15.0->tensorflow) (0.2.8)\n",
      "Collecting rsa<5,>=3.1.4 (from google-auth<3,>=1.6.3->tensorboard<2.16,>=2.15->tensorflow-intel==2.15.0->tensorflow)\n",
      "  Obtaining dependency information for rsa<5,>=3.1.4 from https://files.pythonhosted.org/packages/49/97/fa78e3d2f65c02c8e1268b9aba606569fe97f6c8f7c2d74394553347c145/rsa-4.9-py3-none-any.whl.metadata\n",
      "  Using cached rsa-4.9-py3-none-any.whl.metadata (4.2 kB)\n",
      "Collecting requests-oauthlib>=0.7.0 (from google-auth-oauthlib<2,>=0.5->tensorboard<2.16,>=2.15->tensorflow-intel==2.15.0->tensorflow)\n",
      "  Obtaining dependency information for requests-oauthlib>=0.7.0 from https://files.pythonhosted.org/packages/6f/bb/5deac77a9af870143c684ab46a7934038a53eb4aa975bc0687ed6ca2c610/requests_oauthlib-1.3.1-py2.py3-none-any.whl.metadata\n",
      "  Using cached requests_oauthlib-1.3.1-py2.py3-none-any.whl.metadata (10 kB)\n",
      "Requirement already satisfied: charset-normalizer<4,>=2 in c:\\users\\aditya.ghoshal\\appdata\\local\\anaconda3\\lib\\site-packages (from requests<3,>=2.21.0->tensorboard<2.16,>=2.15->tensorflow-intel==2.15.0->tensorflow) (2.0.4)\n",
      "Requirement already satisfied: idna<4,>=2.5 in c:\\users\\aditya.ghoshal\\appdata\\local\\anaconda3\\lib\\site-packages (from requests<3,>=2.21.0->tensorboard<2.16,>=2.15->tensorflow-intel==2.15.0->tensorflow) (3.4)\n",
      "Requirement already satisfied: urllib3<3,>=1.21.1 in c:\\users\\aditya.ghoshal\\appdata\\local\\anaconda3\\lib\\site-packages (from requests<3,>=2.21.0->tensorboard<2.16,>=2.15->tensorflow-intel==2.15.0->tensorflow) (1.26.16)\n",
      "Requirement already satisfied: certifi>=2017.4.17 in c:\\users\\aditya.ghoshal\\appdata\\local\\anaconda3\\lib\\site-packages (from requests<3,>=2.21.0->tensorboard<2.16,>=2.15->tensorflow-intel==2.15.0->tensorflow) (2023.7.22)\n",
      "Requirement already satisfied: MarkupSafe>=2.1.1 in c:\\users\\aditya.ghoshal\\appdata\\local\\anaconda3\\lib\\site-packages (from werkzeug>=1.0.1->tensorboard<2.16,>=2.15->tensorflow-intel==2.15.0->tensorflow) (2.1.1)\n",
      "Requirement already satisfied: pyasn1<0.5.0,>=0.4.6 in c:\\users\\aditya.ghoshal\\appdata\\local\\anaconda3\\lib\\site-packages (from pyasn1-modules>=0.2.1->google-auth<3,>=1.6.3->tensorboard<2.16,>=2.15->tensorflow-intel==2.15.0->tensorflow) (0.4.8)\n",
      "Collecting oauthlib>=3.0.0 (from requests-oauthlib>=0.7.0->google-auth-oauthlib<2,>=0.5->tensorboard<2.16,>=2.15->tensorflow-intel==2.15.0->tensorflow)\n",
      "  Obtaining dependency information for oauthlib>=3.0.0 from https://files.pythonhosted.org/packages/7e/80/cab10959dc1faead58dc8384a781dfbf93cb4d33d50988f7a69f1b7c9bbe/oauthlib-3.2.2-py3-none-any.whl.metadata\n",
      "  Using cached oauthlib-3.2.2-py3-none-any.whl.metadata (7.5 kB)\n",
      "Using cached tensorflow-2.15.0-cp311-cp311-win_amd64.whl (2.1 kB)\n",
      "Downloading tensorflow_intel-2.15.0-cp311-cp311-win_amd64.whl (300.9 MB)\n",
      "   ---------------------------------------- 0.0/300.9 MB ? eta -:--:--\n",
      "   ---------------------------------------- 0.0/300.9 MB ? eta -:--:--\n",
      "   ---------------------------------------- 0.0/300.9 MB 393.8 kB/s eta 0:12:44\n",
      "   ---------------------------------------- 0.4/300.9 MB 2.5 MB/s eta 0:02:02\n",
      "   ---------------------------------------- 2.0/300.9 MB 10.8 MB/s eta 0:00:28\n",
      "   ---------------------------------------- 3.6/300.9 MB 15.4 MB/s eta 0:00:20\n",
      "    --------------------------------------- 5.5/300.9 MB 20.7 MB/s eta 0:00:15\n",
      "    --------------------------------------- 6.8/300.9 MB 21.8 MB/s eta 0:00:14\n",
      "    --------------------------------------- 7.3/300.9 MB 21.3 MB/s eta 0:00:14\n",
      "    --------------------------------------- 7.3/300.9 MB 21.3 MB/s eta 0:00:14\n",
      "   - -------------------------------------- 7.8/300.9 MB 17.3 MB/s eta 0:00:17\n",
      "   - -------------------------------------- 8.4/300.9 MB 16.7 MB/s eta 0:00:18\n",
      "   - -------------------------------------- 8.9/300.9 MB 16.3 MB/s eta 0:00:18\n",
      "   - -------------------------------------- 9.5/300.9 MB 16.0 MB/s eta 0:00:19\n",
      "   - -------------------------------------- 10.0/300.9 MB 15.7 MB/s eta 0:00:19\n",
      "   - -------------------------------------- 10.6/300.9 MB 18.7 MB/s eta 0:00:16\n",
      "   - -------------------------------------- 11.3/300.9 MB 17.7 MB/s eta 0:00:17\n",
      "   - -------------------------------------- 11.9/300.9 MB 16.8 MB/s eta 0:00:18\n",
      "   - -------------------------------------- 12.6/300.9 MB 16.0 MB/s eta 0:00:19\n",
      "   - -------------------------------------- 13.2/300.9 MB 15.2 MB/s eta 0:00:19\n",
      "   - -------------------------------------- 13.9/300.9 MB 14.9 MB/s eta 0:00:20\n",
      "   - -------------------------------------- 14.5/300.9 MB 13.9 MB/s eta 0:00:21\n",
      "   -- ------------------------------------- 15.2/300.9 MB 13.4 MB/s eta 0:00:22\n",
      "   -- ------------------------------------- 16.0/300.9 MB 13.1 MB/s eta 0:00:22\n",
      "   -- ------------------------------------- 16.8/300.9 MB 12.8 MB/s eta 0:00:23\n",
      "   -- ------------------------------------- 17.4/300.9 MB 12.6 MB/s eta 0:00:23\n",
      "   -- ------------------------------------- 18.1/300.9 MB 13.9 MB/s eta 0:00:21\n",
      "   -- ------------------------------------- 18.9/300.9 MB 14.2 MB/s eta 0:00:20\n",
      "   -- ------------------------------------- 19.8/300.9 MB 14.9 MB/s eta 0:00:19\n",
      "   -- ------------------------------------- 20.6/300.9 MB 15.2 MB/s eta 0:00:19\n",
      "   -- ------------------------------------- 21.5/300.9 MB 15.6 MB/s eta 0:00:18\n",
      "   -- ------------------------------------- 22.4/300.9 MB 16.0 MB/s eta 0:00:18\n",
      "   --- ------------------------------------ 23.2/300.9 MB 16.4 MB/s eta 0:00:17\n",
      "   --- ------------------------------------ 23.9/300.9 MB 16.4 MB/s eta 0:00:17\n",
      "   --- ------------------------------------ 24.8/300.9 MB 16.8 MB/s eta 0:00:17\n",
      "   --- ------------------------------------ 25.7/300.9 MB 17.7 MB/s eta 0:00:16\n",
      "   --- ------------------------------------ 26.7/300.9 MB 18.2 MB/s eta 0:00:16\n",
      "   --- ------------------------------------ 27.5/300.9 MB 18.2 MB/s eta 0:00:16\n",
      "   --- ------------------------------------ 28.5/300.9 MB 18.7 MB/s eta 0:00:15\n",
      "   --- ------------------------------------ 29.4/300.9 MB 19.3 MB/s eta 0:00:15\n",
      "   ---- ----------------------------------- 30.4/300.9 MB 19.3 MB/s eta 0:00:15\n",
      "   ---- ----------------------------------- 31.3/300.9 MB 19.8 MB/s eta 0:00:14\n",
      "   ---- ----------------------------------- 32.3/300.9 MB 19.8 MB/s eta 0:00:14\n",
      "   ---- ----------------------------------- 33.4/300.9 MB 19.8 MB/s eta 0:00:14\n",
      "   ---- ----------------------------------- 34.4/300.9 MB 20.5 MB/s eta 0:00:14\n",
      "   ---- ----------------------------------- 35.5/300.9 MB 21.1 MB/s eta 0:00:13\n",
      "   ---- ----------------------------------- 36.6/300.9 MB 21.1 MB/s eta 0:00:13\n",
      "   ---- ----------------------------------- 37.6/300.9 MB 21.8 MB/s eta 0:00:13\n",
      "   ----- ---------------------------------- 38.5/300.9 MB 21.8 MB/s eta 0:00:13\n",
      "   ----- ---------------------------------- 39.5/300.9 MB 21.8 MB/s eta 0:00:12\n",
      "   ----- ---------------------------------- 40.6/300.9 MB 21.8 MB/s eta 0:00:12\n",
      "   ----- ---------------------------------- 41.7/300.9 MB 23.4 MB/s eta 0:00:12\n",
      "   ----- ---------------------------------- 42.7/300.9 MB 22.6 MB/s eta 0:00:12\n",
      "   ----- ---------------------------------- 43.7/300.9 MB 22.6 MB/s eta 0:00:12\n",
      "   ----- ---------------------------------- 44.7/300.9 MB 22.5 MB/s eta 0:00:12\n",
      "   ------ --------------------------------- 45.8/300.9 MB 22.6 MB/s eta 0:00:12\n",
      "   ------ --------------------------------- 47.0/300.9 MB 23.4 MB/s eta 0:00:11\n",
      "   ------ --------------------------------- 48.1/300.9 MB 23.4 MB/s eta 0:00:11\n",
      "   ------ --------------------------------- 49.3/300.9 MB 23.4 MB/s eta 0:00:11\n",
      "   ------ --------------------------------- 50.4/300.9 MB 23.4 MB/s eta 0:00:11\n",
      "   ------ --------------------------------- 51.8/300.9 MB 24.2 MB/s eta 0:00:11\n",
      "   ------- -------------------------------- 52.9/300.9 MB 25.1 MB/s eta 0:00:10\n",
      "   ------- -------------------------------- 54.2/300.9 MB 26.2 MB/s eta 0:00:10\n",
      "   ------- -------------------------------- 55.5/300.9 MB 26.2 MB/s eta 0:00:10\n",
      "   ------- -------------------------------- 56.8/300.9 MB 26.2 MB/s eta 0:00:10\n",
      "   ------- -------------------------------- 57.9/300.9 MB 27.3 MB/s eta 0:00:09\n",
      "   ------- -------------------------------- 59.1/300.9 MB 26.2 MB/s eta 0:00:10\n",
      "   -------- ------------------------------- 60.5/300.9 MB 27.3 MB/s eta 0:00:09\n",
      "   -------- ------------------------------- 61.7/300.9 MB 27.3 MB/s eta 0:00:09\n",
      "   -------- ------------------------------- 62.9/300.9 MB 27.3 MB/s eta 0:00:09\n",
      "   -------- ------------------------------- 64.1/300.9 MB 27.3 MB/s eta 0:00:09\n",
      "   -------- ------------------------------- 65.4/300.9 MB 26.2 MB/s eta 0:00:09\n",
      "   -------- ------------------------------- 66.7/300.9 MB 26.2 MB/s eta 0:00:09\n",
      "   --------- ------------------------------ 67.9/300.9 MB 26.2 MB/s eta 0:00:09\n",
      "   --------- ------------------------------ 69.3/300.9 MB 27.3 MB/s eta 0:00:09\n",
      "   --------- ------------------------------ 70.6/300.9 MB 27.3 MB/s eta 0:00:09\n",
      "   --------- ------------------------------ 72.1/300.9 MB 28.4 MB/s eta 0:00:09\n",
      "   --------- ------------------------------ 73.3/300.9 MB 29.7 MB/s eta 0:00:08\n",
      "   --------- ------------------------------ 74.7/300.9 MB 29.7 MB/s eta 0:00:08\n",
      "   ---------- ----------------------------- 76.1/300.9 MB 29.7 MB/s eta 0:00:08\n",
      "   ---------- ----------------------------- 77.4/300.9 MB 29.7 MB/s eta 0:00:08\n",
      "   ---------- ----------------------------- 78.8/300.9 MB 29.7 MB/s eta 0:00:08\n",
      "   ---------- ----------------------------- 80.2/300.9 MB 29.8 MB/s eta 0:00:08\n",
      "   ---------- ----------------------------- 81.6/300.9 MB 29.8 MB/s eta 0:00:08\n",
      "   ----------- ---------------------------- 82.9/300.9 MB 29.7 MB/s eta 0:00:08\n",
      "   ----------- ---------------------------- 84.1/300.9 MB 29.7 MB/s eta 0:00:08\n",
      "   ----------- ---------------------------- 85.6/300.9 MB 29.7 MB/s eta 0:00:08\n",
      "   ----------- ---------------------------- 87.1/300.9 MB 29.7 MB/s eta 0:00:08\n",
      "   ----------- ---------------------------- 88.5/300.9 MB 29.7 MB/s eta 0:00:08\n",
      "   ----------- ---------------------------- 89.8/300.9 MB 29.7 MB/s eta 0:00:08\n",
      "   ------------ --------------------------- 91.5/300.9 MB 29.8 MB/s eta 0:00:08\n",
      "   ------------ --------------------------- 92.7/300.9 MB 29.8 MB/s eta 0:00:07\n",
      "   ------------ --------------------------- 94.2/300.9 MB 31.2 MB/s eta 0:00:07\n",
      "   ------------ --------------------------- 95.8/300.9 MB 29.7 MB/s eta 0:00:07\n",
      "   ------------ --------------------------- 97.1/300.9 MB 28.4 MB/s eta 0:00:08\n",
      "   ------------- -------------------------- 98.1/300.9 MB 28.4 MB/s eta 0:00:08\n",
      "   ------------- -------------------------- 98.9/300.9 MB 26.2 MB/s eta 0:00:08\n",
      "   ------------ -------------------------- 100.0/300.9 MB 26.2 MB/s eta 0:00:08\n",
      "   ------------- ------------------------- 100.6/300.9 MB 25.2 MB/s eta 0:00:08\n",
      "   ------------- ------------------------- 101.7/300.9 MB 24.2 MB/s eta 0:00:09\n",
      "   ------------- ------------------------- 102.9/300.9 MB 24.2 MB/s eta 0:00:09\n",
      "   ------------- ------------------------- 104.0/300.9 MB 23.4 MB/s eta 0:00:09\n",
      "   ------------- ------------------------- 105.1/300.9 MB 23.4 MB/s eta 0:00:09\n",
      "   ------------- ------------------------- 106.0/300.9 MB 22.6 MB/s eta 0:00:09\n",
      "   ------------- ------------------------- 106.4/300.9 MB 21.1 MB/s eta 0:00:10\n",
      "   ------------- ------------------------- 107.1/300.9 MB 20.5 MB/s eta 0:00:10\n",
      "   ------------- ------------------------- 107.9/300.9 MB 19.3 MB/s eta 0:00:11\n",
      "   -------------- ------------------------ 108.5/300.9 MB 19.3 MB/s eta 0:00:10\n",
      "   -------------- ------------------------ 109.6/300.9 MB 19.3 MB/s eta 0:00:10\n",
      "   -------------- ------------------------ 111.0/300.9 MB 20.5 MB/s eta 0:00:10\n",
      "   -------------- ------------------------ 112.0/300.9 MB 20.5 MB/s eta 0:00:10\n",
      "   -------------- ------------------------ 113.4/300.9 MB 20.5 MB/s eta 0:00:10\n",
      "   -------------- ------------------------ 114.1/300.9 MB 19.8 MB/s eta 0:00:10\n",
      "   -------------- ------------------------ 115.2/300.9 MB 20.5 MB/s eta 0:00:10\n",
      "   --------------- ----------------------- 115.9/300.9 MB 19.8 MB/s eta 0:00:10\n",
      "   --------------- ----------------------- 116.3/300.9 MB 19.2 MB/s eta 0:00:10\n",
      "   --------------- ----------------------- 117.6/300.9 MB 21.8 MB/s eta 0:00:09\n",
      "   --------------- ----------------------- 119.0/300.9 MB 22.6 MB/s eta 0:00:09\n",
      "   --------------- ----------------------- 120.4/300.9 MB 23.4 MB/s eta 0:00:08\n",
      "   --------------- ----------------------- 122.0/300.9 MB 24.2 MB/s eta 0:00:08\n",
      "   --------------- ----------------------- 122.8/300.9 MB 23.4 MB/s eta 0:00:08\n",
      "   --------------- ----------------------- 123.4/300.9 MB 21.8 MB/s eta 0:00:09\n",
      "   ---------------- ---------------------- 124.1/300.9 MB 21.8 MB/s eta 0:00:09\n",
      "   ---------------- ---------------------- 125.2/300.9 MB 21.8 MB/s eta 0:00:09\n",
      "   ---------------- ---------------------- 126.6/300.9 MB 25.1 MB/s eta 0:00:07\n",
      "   ---------------- ---------------------- 128.0/300.9 MB 25.2 MB/s eta 0:00:07\n",
      "   ---------------- ---------------------- 129.4/300.9 MB 25.2 MB/s eta 0:00:07\n",
      "   ---------------- ---------------------- 130.5/300.9 MB 24.2 MB/s eta 0:00:08\n",
      "   ----------------- --------------------- 131.9/300.9 MB 24.2 MB/s eta 0:00:07\n",
      "   ----------------- --------------------- 133.3/300.9 MB 26.2 MB/s eta 0:00:07\n",
      "   ----------------- --------------------- 134.1/300.9 MB 26.2 MB/s eta 0:00:07\n",
      "   ----------------- --------------------- 135.0/300.9 MB 26.2 MB/s eta 0:00:07\n",
      "   ----------------- --------------------- 136.3/300.9 MB 27.3 MB/s eta 0:00:07\n",
      "   ----------------- --------------------- 137.7/300.9 MB 26.2 MB/s eta 0:00:07\n",
      "   ------------------ -------------------- 139.2/300.9 MB 26.2 MB/s eta 0:00:07\n",
      "   ------------------ -------------------- 140.7/300.9 MB 27.3 MB/s eta 0:00:06\n",
      "   ------------------ -------------------- 141.9/300.9 MB 26.2 MB/s eta 0:00:07\n",
      "   ------------------ -------------------- 143.3/300.9 MB 27.3 MB/s eta 0:00:06\n",
      "   ------------------ -------------------- 144.7/300.9 MB 29.7 MB/s eta 0:00:06\n",
      "   ------------------ -------------------- 146.2/300.9 MB 31.2 MB/s eta 0:00:05\n",
      "   ------------------- ------------------- 147.6/300.9 MB 31.2 MB/s eta 0:00:05\n",
      "   ------------------- ------------------- 149.1/300.9 MB 31.2 MB/s eta 0:00:05\n",
      "   ------------------- ------------------- 150.6/300.9 MB 31.2 MB/s eta 0:00:05\n",
      "   ------------------- ------------------- 152.0/300.9 MB 31.1 MB/s eta 0:00:05\n",
      "   ------------------- ------------------- 153.5/300.9 MB 31.2 MB/s eta 0:00:05\n",
      "   -------------------- ------------------ 154.7/300.9 MB 31.2 MB/s eta 0:00:05\n",
      "   -------------------- ------------------ 155.6/300.9 MB 29.7 MB/s eta 0:00:05\n",
      "   -------------------- ------------------ 156.5/300.9 MB 28.5 MB/s eta 0:00:06\n",
      "   -------------------- ------------------ 157.4/300.9 MB 26.2 MB/s eta 0:00:06\n",
      "   -------------------- ------------------ 158.1/300.9 MB 25.2 MB/s eta 0:00:06\n",
      "   -------------------- ------------------ 159.0/300.9 MB 23.4 MB/s eta 0:00:07\n",
      "   -------------------- ------------------ 159.9/300.9 MB 23.4 MB/s eta 0:00:07\n",
      "   -------------------- ------------------ 160.9/300.9 MB 22.6 MB/s eta 0:00:07\n",
      "   -------------------- ------------------ 161.8/300.9 MB 21.9 MB/s eta 0:00:07\n",
      "   --------------------- ----------------- 162.8/300.9 MB 21.1 MB/s eta 0:00:07\n",
      "   --------------------- ----------------- 163.8/300.9 MB 20.5 MB/s eta 0:00:07\n",
      "   --------------------- ----------------- 164.8/300.9 MB 20.5 MB/s eta 0:00:07\n",
      "   --------------------- ----------------- 165.8/300.9 MB 20.5 MB/s eta 0:00:07\n",
      "   --------------------- ----------------- 166.9/300.9 MB 21.1 MB/s eta 0:00:07\n",
      "   --------------------- ----------------- 168.0/300.9 MB 21.8 MB/s eta 0:00:07\n",
      "   --------------------- ----------------- 168.9/300.9 MB 21.8 MB/s eta 0:00:07\n",
      "   ---------------------- ---------------- 170.0/300.9 MB 21.8 MB/s eta 0:00:07\n",
      "   ---------------------- ---------------- 171.1/300.9 MB 22.5 MB/s eta 0:00:06\n",
      "   ---------------------- ---------------- 172.2/300.9 MB 23.4 MB/s eta 0:00:06\n",
      "   ---------------------- ---------------- 173.2/300.9 MB 22.6 MB/s eta 0:00:06\n",
      "   ---------------------- ---------------- 174.2/300.9 MB 22.6 MB/s eta 0:00:06\n",
      "   ---------------------- ---------------- 175.4/300.9 MB 23.4 MB/s eta 0:00:06\n",
      "   ---------------------- ---------------- 176.7/300.9 MB 23.4 MB/s eta 0:00:06\n",
      "   ----------------------- --------------- 177.9/300.9 MB 24.2 MB/s eta 0:00:06\n",
      "   ----------------------- --------------- 179.1/300.9 MB 24.2 MB/s eta 0:00:06\n",
      "   ----------------------- --------------- 180.3/300.9 MB 25.1 MB/s eta 0:00:05\n",
      "   ----------------------- --------------- 181.3/300.9 MB 24.3 MB/s eta 0:00:05\n",
      "   ----------------------- --------------- 182.3/300.9 MB 25.1 MB/s eta 0:00:05\n",
      "   ----------------------- --------------- 183.5/300.9 MB 25.2 MB/s eta 0:00:05\n",
      "   ----------------------- --------------- 184.7/300.9 MB 25.2 MB/s eta 0:00:05\n",
      "   ------------------------ -------------- 186.0/300.9 MB 24.2 MB/s eta 0:00:05\n",
      "   ------------------------ -------------- 187.3/300.9 MB 24.3 MB/s eta 0:00:05\n",
      "   ------------------------ -------------- 188.4/300.9 MB 25.1 MB/s eta 0:00:05\n",
      "   ------------------------ -------------- 189.6/300.9 MB 25.1 MB/s eta 0:00:05\n",
      "   ------------------------ -------------- 190.7/300.9 MB 24.2 MB/s eta 0:00:05\n",
      "   ------------------------ -------------- 191.9/300.9 MB 25.2 MB/s eta 0:00:05\n",
      "   ------------------------- ------------- 193.2/300.9 MB 26.2 MB/s eta 0:00:05\n",
      "   ------------------------- ------------- 194.6/300.9 MB 26.2 MB/s eta 0:00:05\n",
      "   ------------------------- ------------- 195.7/300.9 MB 27.3 MB/s eta 0:00:04\n",
      "   ------------------------- ------------- 196.8/300.9 MB 26.2 MB/s eta 0:00:04\n",
      "   ------------------------- ------------- 198.2/300.9 MB 26.2 MB/s eta 0:00:04\n",
      "   ------------------------- ------------- 199.4/300.9 MB 27.3 MB/s eta 0:00:04\n",
      "   -------------------------- ------------ 200.7/300.9 MB 27.3 MB/s eta 0:00:04\n",
      "   -------------------------- ------------ 201.9/300.9 MB 27.3 MB/s eta 0:00:04\n",
      "   -------------------------- ------------ 203.3/300.9 MB 27.3 MB/s eta 0:00:04\n",
      "   -------------------------- ------------ 204.6/300.9 MB 27.3 MB/s eta 0:00:04\n",
      "   -------------------------- ------------ 205.9/300.9 MB 27.3 MB/s eta 0:00:04\n",
      "   -------------------------- ------------ 207.1/300.9 MB 28.4 MB/s eta 0:00:04\n",
      "   --------------------------- ----------- 208.6/300.9 MB 28.4 MB/s eta 0:00:04\n",
      "   --------------------------- ----------- 210.1/300.9 MB 29.7 MB/s eta 0:00:04\n",
      "   --------------------------- ----------- 211.4/300.9 MB 29.8 MB/s eta 0:00:04\n",
      "   --------------------------- ----------- 212.7/300.9 MB 29.8 MB/s eta 0:00:03\n",
      "   --------------------------- ----------- 214.0/300.9 MB 28.5 MB/s eta 0:00:04\n",
      "   --------------------------- ----------- 215.3/300.9 MB 28.5 MB/s eta 0:00:04\n",
      "   ---------------------------- ---------- 216.5/300.9 MB 28.5 MB/s eta 0:00:03\n",
      "   ---------------------------- ---------- 217.8/300.9 MB 29.7 MB/s eta 0:00:03\n",
      "   ---------------------------- ---------- 219.3/300.9 MB 28.4 MB/s eta 0:00:03\n",
      "   ---------------------------- ---------- 220.3/300.9 MB 28.5 MB/s eta 0:00:03\n",
      "   ---------------------------- ---------- 221.6/300.9 MB 28.4 MB/s eta 0:00:03\n",
      "   ---------------------------- ---------- 223.2/300.9 MB 29.7 MB/s eta 0:00:03\n",
      "   ----------------------------- --------- 224.5/300.9 MB 29.7 MB/s eta 0:00:03\n",
      "   ----------------------------- --------- 226.0/300.9 MB 29.8 MB/s eta 0:00:03\n",
      "   ----------------------------- --------- 227.1/300.9 MB 29.8 MB/s eta 0:00:03\n",
      "   ----------------------------- --------- 228.6/300.9 MB 29.7 MB/s eta 0:00:03\n",
      "   ----------------------------- --------- 229.7/300.9 MB 28.5 MB/s eta 0:00:03\n",
      "   ----------------------------- --------- 231.1/300.9 MB 29.7 MB/s eta 0:00:03\n",
      "   ------------------------------ -------- 232.5/300.9 MB 29.7 MB/s eta 0:00:03\n",
      "   ------------------------------ -------- 233.8/300.9 MB 29.7 MB/s eta 0:00:03\n",
      "   ------------------------------ -------- 234.9/300.9 MB 28.4 MB/s eta 0:00:03\n",
      "   ------------------------------ -------- 236.3/300.9 MB 28.5 MB/s eta 0:00:03\n",
      "   ------------------------------ -------- 237.6/300.9 MB 28.5 MB/s eta 0:00:03\n",
      "   ------------------------------ -------- 238.9/300.9 MB 28.5 MB/s eta 0:00:03\n",
      "   ------------------------------- ------- 240.2/300.9 MB 28.5 MB/s eta 0:00:03\n",
      "   ------------------------------- ------- 241.3/300.9 MB 27.3 MB/s eta 0:00:03\n",
      "   ------------------------------- ------- 242.7/300.9 MB 27.3 MB/s eta 0:00:03\n",
      "   ------------------------------- ------- 244.3/300.9 MB 28.4 MB/s eta 0:00:02\n",
      "   ------------------------------- ------- 245.8/300.9 MB 29.7 MB/s eta 0:00:02\n",
      "   -------------------------------- ------ 247.2/300.9 MB 28.5 MB/s eta 0:00:02\n",
      "   -------------------------------- ------ 248.7/300.9 MB 29.8 MB/s eta 0:00:02\n",
      "   -------------------------------- ------ 249.9/300.9 MB 31.1 MB/s eta 0:00:02\n",
      "   -------------------------------- ------ 251.0/300.9 MB 31.2 MB/s eta 0:00:02\n",
      "   -------------------------------- ------ 252.3/300.9 MB 31.2 MB/s eta 0:00:02\n",
      "   -------------------------------- ------ 253.4/300.9 MB 29.7 MB/s eta 0:00:02\n",
      "   --------------------------------- ----- 254.9/300.9 MB 29.7 MB/s eta 0:00:02\n",
      "   --------------------------------- ----- 256.2/300.9 MB 28.5 MB/s eta 0:00:02\n",
      "   --------------------------------- ----- 257.5/300.9 MB 28.4 MB/s eta 0:00:02\n",
      "   --------------------------------- ----- 258.6/300.9 MB 27.3 MB/s eta 0:00:02\n",
      "   --------------------------------- ----- 259.8/300.9 MB 26.2 MB/s eta 0:00:02\n",
      "   --------------------------------- ----- 261.2/300.9 MB 27.3 MB/s eta 0:00:02\n",
      "   ---------------------------------- ---- 262.6/300.9 MB 28.5 MB/s eta 0:00:02\n",
      "   ---------------------------------- ---- 263.9/300.9 MB 28.5 MB/s eta 0:00:02\n",
      "   ---------------------------------- ---- 265.3/300.9 MB 28.5 MB/s eta 0:00:02\n",
      "   ---------------------------------- ---- 266.7/300.9 MB 28.5 MB/s eta 0:00:02\n",
      "   ---------------------------------- ---- 268.0/300.9 MB 28.4 MB/s eta 0:00:02\n",
      "   ---------------------------------- ---- 269.3/300.9 MB 29.7 MB/s eta 0:00:02\n",
      "   ----------------------------------- --- 270.8/300.9 MB 31.2 MB/s eta 0:00:01\n",
      "   ----------------------------------- --- 272.2/300.9 MB 31.2 MB/s eta 0:00:01\n",
      "   ----------------------------------- --- 273.5/300.9 MB 31.2 MB/s eta 0:00:01\n",
      "   ----------------------------------- --- 274.9/300.9 MB 29.7 MB/s eta 0:00:01\n",
      "   ----------------------------------- --- 276.2/300.9 MB 29.8 MB/s eta 0:00:01\n",
      "   ----------------------------------- --- 277.4/300.9 MB 29.8 MB/s eta 0:00:01\n",
      "   ------------------------------------ -- 278.8/300.9 MB 29.7 MB/s eta 0:00:01\n",
      "   ------------------------------------ -- 279.9/300.9 MB 29.7 MB/s eta 0:00:01\n",
      "   ------------------------------------ -- 281.4/300.9 MB 28.5 MB/s eta 0:00:01\n",
      "   ------------------------------------ -- 283.0/300.9 MB 29.7 MB/s eta 0:00:01\n",
      "   ------------------------------------ -- 284.3/300.9 MB 28.4 MB/s eta 0:00:01\n",
      "   ------------------------------------ -- 285.3/300.9 MB 28.4 MB/s eta 0:00:01\n",
      "   ------------------------------------- - 286.6/300.9 MB 28.5 MB/s eta 0:00:01\n",
      "   ------------------------------------- - 288.4/300.9 MB 29.8 MB/s eta 0:00:01\n",
      "   ------------------------------------- - 290.0/300.9 MB 31.2 MB/s eta 0:00:01\n",
      "   ------------------------------------- - 291.4/300.9 MB 29.7 MB/s eta 0:00:01\n",
      "   ------------------------------------- - 292.5/300.9 MB 29.7 MB/s eta 0:00:01\n",
      "   --------------------------------------  293.5/300.9 MB 28.4 MB/s eta 0:00:01\n",
      "   --------------------------------------  294.7/300.9 MB 28.4 MB/s eta 0:00:01\n",
      "   --------------------------------------  295.8/300.9 MB 29.7 MB/s eta 0:00:01\n",
      "   --------------------------------------  296.9/300.9 MB 27.3 MB/s eta 0:00:01\n",
      "   --------------------------------------  298.1/300.9 MB 27.3 MB/s eta 0:00:01\n",
      "   --------------------------------------  299.3/300.9 MB 26.2 MB/s eta 0:00:01\n",
      "   --------------------------------------  300.6/300.9 MB 26.2 MB/s eta 0:00:01\n",
      "   --------------------------------------  300.9/300.9 MB 24.2 MB/s eta 0:00:01\n",
      "   --------------------------------------  300.9/300.9 MB 24.2 MB/s eta 0:00:01\n",
      "   --------------------------------------  300.9/300.9 MB 24.2 MB/s eta 0:00:01\n",
      "   --------------------------------------  300.9/300.9 MB 24.2 MB/s eta 0:00:01\n",
      "   --------------------------------------  300.9/300.9 MB 24.2 MB/s eta 0:00:01\n",
      "   --------------------------------------  300.9/300.9 MB 24.2 MB/s eta 0:00:01\n",
      "   --------------------------------------  300.9/300.9 MB 24.2 MB/s eta 0:00:01\n",
      "   --------------------------------------  300.9/300.9 MB 24.2 MB/s eta 0:00:01\n",
      "   --------------------------------------  300.9/300.9 MB 24.2 MB/s eta 0:00:01\n",
      "   --------------------------------------  300.9/300.9 MB 24.2 MB/s eta 0:00:01\n",
      "   --------------------------------------  300.9/300.9 MB 24.2 MB/s eta 0:00:01\n",
      "   --------------------------------------  300.9/300.9 MB 24.2 MB/s eta 0:00:01\n",
      "   --------------------------------------  300.9/300.9 MB 24.2 MB/s eta 0:00:01\n",
      "   --------------------------------------  300.9/300.9 MB 24.2 MB/s eta 0:00:01\n",
      "   --------------------------------------  300.9/300.9 MB 24.2 MB/s eta 0:00:01\n",
      "   --------------------------------------  300.9/300.9 MB 24.2 MB/s eta 0:00:01\n",
      "   --------------------------------------  300.9/300.9 MB 24.2 MB/s eta 0:00:01\n",
      "   --------------------------------------  300.9/300.9 MB 24.2 MB/s eta 0:00:01\n",
      "   --------------------------------------  300.9/300.9 MB 24.2 MB/s eta 0:00:01\n",
      "   --------------------------------------  300.9/300.9 MB 24.2 MB/s eta 0:00:01\n",
      "   --------------------------------------  300.9/300.9 MB 24.2 MB/s eta 0:00:01\n",
      "   --------------------------------------  300.9/300.9 MB 24.2 MB/s eta 0:00:01\n",
      "   --------------------------------------  300.9/300.9 MB 24.2 MB/s eta 0:00:01\n",
      "   --------------------------------------  300.9/300.9 MB 24.2 MB/s eta 0:00:01\n",
      "   --------------------------------------  300.9/300.9 MB 24.2 MB/s eta 0:00:01\n",
      "   --------------------------------------  300.9/300.9 MB 24.2 MB/s eta 0:00:01\n",
      "   --------------------------------------  300.9/300.9 MB 24.2 MB/s eta 0:00:01\n",
      "   --------------------------------------  300.9/300.9 MB 24.2 MB/s eta 0:00:01\n",
      "   --------------------------------------  300.9/300.9 MB 24.2 MB/s eta 0:00:01\n",
      "   --------------------------------------  300.9/300.9 MB 24.2 MB/s eta 0:00:01\n",
      "   --------------------------------------  300.9/300.9 MB 24.2 MB/s eta 0:00:01\n",
      "   --------------------------------------  300.9/300.9 MB 24.2 MB/s eta 0:00:01\n",
      "   --------------------------------------  300.9/300.9 MB 24.2 MB/s eta 0:00:01\n",
      "   --------------------------------------  300.9/300.9 MB 24.2 MB/s eta 0:00:01\n",
      "   --------------------------------------  300.9/300.9 MB 24.2 MB/s eta 0:00:01\n",
      "   --------------------------------------  300.9/300.9 MB 24.2 MB/s eta 0:00:01\n",
      "   --------------------------------------  300.9/300.9 MB 24.2 MB/s eta 0:00:01\n",
      "   --------------------------------------  300.9/300.9 MB 24.2 MB/s eta 0:00:01\n",
      "   --------------------------------------  300.9/300.9 MB 24.2 MB/s eta 0:00:01\n",
      "   --------------------------------------  300.9/300.9 MB 24.2 MB/s eta 0:00:01\n",
      "   --------------------------------------  300.9/300.9 MB 24.2 MB/s eta 0:00:01\n",
      "   --------------------------------------  300.9/300.9 MB 24.2 MB/s eta 0:00:01\n",
      "   --------------------------------------  300.9/300.9 MB 24.2 MB/s eta 0:00:01\n",
      "   --------------------------------------  300.9/300.9 MB 24.2 MB/s eta 0:00:01\n",
      "   --------------------------------------  300.9/300.9 MB 24.2 MB/s eta 0:00:01\n",
      "   --------------------------------------  300.9/300.9 MB 24.2 MB/s eta 0:00:01\n",
      "   --------------------------------------  300.9/300.9 MB 24.2 MB/s eta 0:00:01\n",
      "   --------------------------------------  300.9/300.9 MB 24.2 MB/s eta 0:00:01\n",
      "   --------------------------------------  300.9/300.9 MB 24.2 MB/s eta 0:00:01\n",
      "   --------------------------------------  300.9/300.9 MB 24.2 MB/s eta 0:00:01\n",
      "   --------------------------------------  300.9/300.9 MB 24.2 MB/s eta 0:00:01\n",
      "   --------------------------------------  300.9/300.9 MB 24.2 MB/s eta 0:00:01\n",
      "   --------------------------------------  300.9/300.9 MB 24.2 MB/s eta 0:00:01\n",
      "   --------------------------------------  300.9/300.9 MB 24.2 MB/s eta 0:00:01\n",
      "   --------------------------------------  300.9/300.9 MB 24.2 MB/s eta 0:00:01\n",
      "   --------------------------------------  300.9/300.9 MB 24.2 MB/s eta 0:00:01\n",
      "   --------------------------------------  300.9/300.9 MB 24.2 MB/s eta 0:00:01\n",
      "   --------------------------------------  300.9/300.9 MB 24.2 MB/s eta 0:00:01\n",
      "   --------------------------------------  300.9/300.9 MB 24.2 MB/s eta 0:00:01\n",
      "   --------------------------------------  300.9/300.9 MB 24.2 MB/s eta 0:00:01\n",
      "   --------------------------------------  300.9/300.9 MB 24.2 MB/s eta 0:00:01\n",
      "   --------------------------------------  300.9/300.9 MB 24.2 MB/s eta 0:00:01\n",
      "   ---------------------------------------- 300.9/300.9 MB 1.9 MB/s eta 0:00:00\n",
      "Downloading absl_py-2.1.0-py3-none-any.whl (133 kB)\n",
      "   ---------------------------------------- 0.0/133.7 kB ? eta -:--:--\n",
      "   ---------------------------------------- 133.7/133.7 kB 4.0 MB/s eta 0:00:00\n",
      "Downloading flatbuffers-23.5.26-py2.py3-none-any.whl (26 kB)\n",
      "Downloading gast-0.5.4-py3-none-any.whl (19 kB)\n",
      "Downloading grpcio-1.62.0-cp311-cp311-win_amd64.whl (3.8 MB)\n",
      "   ---------------------------------------- 0.0/3.8 MB ? eta -:--:--\n",
      "   ----------- ---------------------------- 1.1/3.8 MB 34.4 MB/s eta 0:00:01\n",
      "   -------------------- ------------------- 2.0/3.8 MB 31.0 MB/s eta 0:00:01\n",
      "   ----------------------------------- ---- 3.3/3.8 MB 26.5 MB/s eta 0:00:01\n",
      "   ---------------------------------------  3.8/3.8 MB 26.7 MB/s eta 0:00:01\n",
      "   ---------------------------------------  3.8/3.8 MB 26.7 MB/s eta 0:00:01\n",
      "   ---------------------------------------  3.8/3.8 MB 26.7 MB/s eta 0:00:01\n",
      "   ---------------------------------------  3.8/3.8 MB 26.7 MB/s eta 0:00:01\n",
      "   ---------------------------------------  3.8/3.8 MB 26.7 MB/s eta 0:00:01\n",
      "   ---------------------------------------- 3.8/3.8 MB 9.7 MB/s eta 0:00:00\n",
      "Downloading keras-2.15.0-py3-none-any.whl (1.7 MB)\n",
      "   ---------------------------------------- 0.0/1.7 MB ? eta -:--:--\n",
      "   ------------------------------ --------- 1.3/1.7 MB 41.3 MB/s eta 0:00:01\n",
      "   ---------------------------------------  1.7/1.7 MB 36.2 MB/s eta 0:00:01\n",
      "   ---------------------------------------- 1.7/1.7 MB 13.6 MB/s eta 0:00:00\n",
      "Downloading libclang-16.0.6-py2.py3-none-win_amd64.whl (24.4 MB)\n",
      "   ---------------------------------------- 0.0/24.4 MB ? eta -:--:--\n",
      "   -- ------------------------------------- 1.6/24.4 MB 51.9 MB/s eta 0:00:01\n",
      "   ---- ----------------------------------- 2.9/24.4 MB 37.2 MB/s eta 0:00:01\n",
      "   ------ --------------------------------- 3.9/24.4 MB 31.2 MB/s eta 0:00:01\n",
      "   -------- ------------------------------- 5.3/24.4 MB 30.8 MB/s eta 0:00:01\n",
      "   ---------- ----------------------------- 6.7/24.4 MB 30.6 MB/s eta 0:00:01\n",
      "   ------------- -------------------------- 8.2/24.4 MB 30.8 MB/s eta 0:00:01\n",
      "   ------------- -------------------------- 8.3/24.4 MB 29.6 MB/s eta 0:00:01\n",
      "   -------------- ------------------------- 8.9/24.4 MB 24.9 MB/s eta 0:00:01\n",
      "   ---------------- ----------------------- 10.3/24.4 MB 25.2 MB/s eta 0:00:01\n",
      "   ------------------- -------------------- 11.8/24.4 MB 24.2 MB/s eta 0:00:01\n",
      "   --------------------- ------------------ 13.3/24.4 MB 25.2 MB/s eta 0:00:01\n",
      "   ----------------------- ---------------- 14.6/24.4 MB 25.2 MB/s eta 0:00:01\n",
      "   -------------------------- ------------- 16.2/24.4 MB 25.2 MB/s eta 0:00:01\n",
      "   ---------------------------- ----------- 17.5/24.4 MB 25.1 MB/s eta 0:00:01\n",
      "   ------------------------------- -------- 19.0/24.4 MB 29.7 MB/s eta 0:00:01\n",
      "   --------------------------------- ------ 20.2/24.4 MB 29.8 MB/s eta 0:00:01\n",
      "   ---------------------------------- ----- 21.0/24.4 MB 31.2 MB/s eta 0:00:01\n",
      "   ---------------------------------- ----- 21.1/24.4 MB 25.2 MB/s eta 0:00:01\n",
      "   ------------------------------------ --- 22.5/24.4 MB 25.2 MB/s eta 0:00:01\n",
      "   ------------------------------------- -- 23.1/24.4 MB 25.1 MB/s eta 0:00:01\n",
      "   ------------------------------------- -- 23.1/24.4 MB 22.5 MB/s eta 0:00:01\n",
      "   ---------------------------------------  24.0/24.4 MB 21.1 MB/s eta 0:00:01\n",
      "   ---------------------------------------  24.4/24.4 MB 20.5 MB/s eta 0:00:01\n",
      "   ---------------------------------------  24.4/24.4 MB 20.5 MB/s eta 0:00:01\n",
      "   ---------------------------------------  24.4/24.4 MB 20.5 MB/s eta 0:00:01\n",
      "   ---------------------------------------  24.4/24.4 MB 20.5 MB/s eta 0:00:01\n",
      "   ---------------------------------------  24.4/24.4 MB 20.5 MB/s eta 0:00:01\n",
      "   ---------------------------------------  24.4/24.4 MB 20.5 MB/s eta 0:00:01\n",
      "   ---------------------------------------- 24.4/24.4 MB 12.3 MB/s eta 0:00:00\n",
      "Downloading ml_dtypes-0.2.0-cp311-cp311-win_amd64.whl (938 kB)\n",
      "   ---------------------------------------- 0.0/938.7 kB ? eta -:--:--\n",
      "   ------------------------------------ -- 880.6/938.7 kB 27.2 MB/s eta 0:00:01\n",
      "   --------------------------------------- 938.7/938.7 kB 11.9 MB/s eta 0:00:00\n",
      "Downloading opt_einsum-3.3.0-py3-none-any.whl (65 kB)\n",
      "   ---------------------------------------- 0.0/65.5 kB ? eta -:--:--\n",
      "   ---------------------------------------- 65.5/65.5 kB 1.8 MB/s eta 0:00:00\n",
      "Downloading protobuf-4.25.3-cp310-abi3-win_amd64.whl (413 kB)\n",
      "   ---------------------------------------- 0.0/413.4 kB ? eta -:--:--\n",
      "   --------------------------------------  409.6/413.4 kB 26.6 MB/s eta 0:00:01\n",
      "   ---------------------------------------- 413.4/413.4 kB 8.6 MB/s eta 0:00:00\n",
      "Downloading tensorboard-2.15.2-py3-none-any.whl (5.5 MB)\n",
      "   ---------------------------------------- 0.0/5.5 MB ? eta -:--:--\n",
      "   - -------------------------------------- 0.2/5.5 MB ? eta -:--:--\n",
      "   --- ------------------------------------ 0.5/5.5 MB 6.3 MB/s eta 0:00:01\n",
      "   ------- -------------------------------- 1.0/5.5 MB 8.3 MB/s eta 0:00:01\n",
      "   --------- ------------------------------ 1.3/5.5 MB 8.3 MB/s eta 0:00:01\n",
      "   ----------- ---------------------------- 1.6/5.5 MB 7.4 MB/s eta 0:00:01\n",
      "   --------------- ------------------------ 2.2/5.5 MB 8.3 MB/s eta 0:00:01\n",
      "   ----------------- ---------------------- 2.4/5.5 MB 8.3 MB/s eta 0:00:01\n",
      "   -------------------- ------------------- 2.9/5.5 MB 7.9 MB/s eta 0:00:01\n",
      "   ----------------------- ---------------- 3.2/5.5 MB 7.9 MB/s eta 0:00:01\n",
      "   ----------------------- ---------------- 3.3/5.5 MB 7.5 MB/s eta 0:00:01\n",
      "   -------------------------- ------------- 3.7/5.5 MB 7.3 MB/s eta 0:00:01\n",
      "   ---------------------------- ----------- 3.9/5.5 MB 7.4 MB/s eta 0:00:01\n",
      "   ----------------------------- ---------- 4.1/5.5 MB 6.9 MB/s eta 0:00:01\n",
      "   -------------------------------- ------- 4.5/5.5 MB 7.0 MB/s eta 0:00:01\n",
      "   --------------------------------- ------ 4.7/5.5 MB 7.0 MB/s eta 0:00:01\n",
      "   ----------------------------------- ---- 4.9/5.5 MB 6.7 MB/s eta 0:00:01\n",
      "   -------------------------------------- - 5.3/5.5 MB 6.7 MB/s eta 0:00:01\n",
      "   -------------------------------------- - 5.4/5.5 MB 6.8 MB/s eta 0:00:01\n",
      "   ---------------------------------------  5.5/5.5 MB 6.5 MB/s eta 0:00:01\n",
      "   ---------------------------------------  5.5/5.5 MB 6.5 MB/s eta 0:00:01\n",
      "   ---------------------------------------- 5.5/5.5 MB 5.9 MB/s eta 0:00:00\n",
      "Downloading tensorflow_estimator-2.15.0-py2.py3-none-any.whl (441 kB)\n",
      "   ---------------------------------------- 0.0/442.0 kB ? eta -:--:--\n",
      "   --------------------------------------  440.3/442.0 kB 13.9 MB/s eta 0:00:01\n",
      "   ---------------------------------------- 442.0/442.0 kB 5.5 MB/s eta 0:00:00\n",
      "Downloading tensorflow_io_gcs_filesystem-0.31.0-cp311-cp311-win_amd64.whl (1.5 MB)\n",
      "   ---------------------------------------- 0.0/1.5 MB ? eta -:--:--\n",
      "   --------------- ------------------------ 0.6/1.5 MB 12.2 MB/s eta 0:00:01\n",
      "   ---------------------------- ----------- 1.0/1.5 MB 13.3 MB/s eta 0:00:01\n",
      "   ---------------------------------------  1.5/1.5 MB 11.6 MB/s eta 0:00:01\n",
      "   ---------------------------------------  1.5/1.5 MB 10.5 MB/s eta 0:00:01\n",
      "   ---------------------------------------- 1.5/1.5 MB 7.9 MB/s eta 0:00:00\n",
      "Downloading termcolor-2.4.0-py3-none-any.whl (7.7 kB)\n",
      "Downloading google_auth-2.28.1-py2.py3-none-any.whl (186 kB)\n",
      "   ---------------------------------------- 0.0/186.9 kB ? eta -:--:--\n",
      "   ---------------------------------------  184.3/186.9 kB ? eta -:--:--\n",
      "   ---------------------------------------- 186.9/186.9 kB 3.8 MB/s eta 0:00:00\n",
      "Downloading google_auth_oauthlib-1.2.0-py2.py3-none-any.whl (24 kB)\n",
      "Downloading tensorboard_data_server-0.7.2-py3-none-any.whl (2.4 kB)\n",
      "Downloading cachetools-5.3.3-py3-none-any.whl (9.3 kB)\n",
      "Downloading requests_oauthlib-1.3.1-py2.py3-none-any.whl (23 kB)\n",
      "Downloading rsa-4.9-py3-none-any.whl (34 kB)\n",
      "Downloading oauthlib-3.2.2-py3-none-any.whl (151 kB)\n",
      "   ---------------------------------------- 0.0/151.7 kB ? eta -:--:--\n",
      "   ------------------------------------- -- 143.4/151.7 kB ? eta -:--:--\n",
      "   ---------------------------------------- 151.7/151.7 kB 1.8 MB/s eta 0:00:00\n",
      "Installing collected packages: libclang, flatbuffers, termcolor, tensorflow-io-gcs-filesystem, tensorflow-estimator, tensorboard-data-server, rsa, protobuf, opt-einsum, oauthlib, ml-dtypes, keras, grpcio, google-pasta, gast, cachetools, astunparse, absl-py, requests-oauthlib, google-auth, google-auth-oauthlib, tensorboard, tensorflow-intel, tensorflow\n",
      "Successfully installed absl-py-2.1.0 astunparse-1.6.3 cachetools-5.3.3 flatbuffers-23.5.26 gast-0.5.4 google-auth-2.28.1 google-auth-oauthlib-1.2.0 google-pasta-0.2.0 grpcio-1.62.0 keras-2.15.0 libclang-16.0.6 ml-dtypes-0.2.0 oauthlib-3.2.2 opt-einsum-3.3.0 protobuf-4.25.3 requests-oauthlib-1.3.1 rsa-4.9 tensorboard-2.15.2 tensorboard-data-server-0.7.2 tensorflow-2.15.0 tensorflow-estimator-2.15.0 tensorflow-intel-2.15.0 tensorflow-io-gcs-filesystem-0.31.0 termcolor-2.4.0\n",
      "Note: you may need to restart the kernel to use updated packages.\n"
     ]
    }
   ],
   "source": [
    "pip install tensorflow"
   ]
  },
  {
   "cell_type": "code",
   "execution_count": 2,
   "metadata": {
    "colab": {
     "base_uri": "https://localhost:8080/"
    },
    "id": "KRTH93VyMYF7",
    "outputId": "3eb9c725-d517-430e-9660-af4cc9600e8e"
   },
   "outputs": [
    {
     "name": "stdout",
     "output_type": "stream",
     "text": [
      "Downloading data from https://storage.googleapis.com/tensorflow/tf-keras-datasets/mnist.npz\n",
      "11490434/11490434 [==============================] - 3s 0us/step\n"
     ]
    }
   ],
   "source": [
    "(X_train,y_train),(X_test,y_test) = keras.datasets.mnist.load_data()"
   ]
  },
  {
   "cell_type": "code",
   "execution_count": 3,
   "metadata": {
    "colab": {
     "base_uri": "https://localhost:8080/"
    },
    "id": "m0hHUKoNMpsZ",
    "outputId": "09b0c168-0f4f-48a7-fea2-fc7793fa5e58"
   },
   "outputs": [
    {
     "data": {
      "text/plain": [
       "(10000, 28, 28)"
      ]
     },
     "execution_count": 3,
     "metadata": {},
     "output_type": "execute_result"
    }
   ],
   "source": [
    "X_test.shape"
   ]
  },
  {
   "cell_type": "code",
   "execution_count": 4,
   "metadata": {
    "colab": {
     "base_uri": "https://localhost:8080/"
    },
    "id": "skzwnglnMzl6",
    "outputId": "4946c5da-2151-4cb6-9a87-dc9dc439b852"
   },
   "outputs": [
    {
     "data": {
      "text/plain": [
       "array([5, 0, 4, ..., 5, 6, 8], dtype=uint8)"
      ]
     },
     "execution_count": 4,
     "metadata": {},
     "output_type": "execute_result"
    }
   ],
   "source": [
    "y_train"
   ]
  },
  {
   "cell_type": "code",
   "execution_count": 5,
   "metadata": {
    "colab": {
     "base_uri": "https://localhost:8080/",
     "height": 448
    },
    "id": "jr2MuKsKRH5G",
    "outputId": "551450fa-fd71-4785-d2d6-d101f89fcb63"
   },
   "outputs": [
    {
     "data": {
      "text/plain": [
       "<matplotlib.image.AxesImage at 0x1e31db74b10>"
      ]
     },
     "execution_count": 5,
     "metadata": {},
     "output_type": "execute_result"
    },
    {
     "data": {
      "image/png": "[encoded data removed]",
      "text/plain": [
       "<Figure size 640x480 with 1 Axes>"
      ]
     },
     "metadata": {},
     "output_type": "display_data"
    }
   ],
   "source": [
    "import matplotlib.pyplot as plt\n",
    "plt.imshow(X_train[2])"
   ]
  },
  {
   "cell_type": "code",
   "execution_count": 6,
   "metadata": {
    "id": "dJmO2WLlRRT1"
   },
   "outputs": [],
   "source": [
    "# Normalization or scaling\n",
    "X_train = X_train/255\n",
    "X_test = X_test/255"
   ]
  },
  {
   "cell_type": "code",
   "execution_count": 7,
   "metadata": {
    "colab": {
     "base_uri": "https://localhost:8080/"
    },
    "id": "i1WA9FioRdtB",
    "outputId": "e7b91733-8df3-48ac-879e-fb98bfc353e6"
   },
   "outputs": [
    {
     "data": {
      "text/plain": [
       "array([[0.        , 0.        , 0.        , 0.        , 0.        ,\n",
       "        0.        , 0.        , 0.        , 0.        , 0.        ,\n",
       "        0.        , 0.        , 0.        , 0.        , 0.        ,\n",
       "        0.        , 0.        , 0.        , 0.        , 0.        ,\n",
       "        0.        , 0.        , 0.        , 0.        , 0.        ,\n",
       "        0.        , 0.        , 0.        ],\n",
       "       [0.        , 0.        , 0.        , 0.        , 0.        ,\n",
       "        0.        , 0.        , 0.        , 0.        , 0.        ,\n",
       "        0.        , 0.        , 0.        , 0.        , 0.        ,\n",
       "        0.        , 0.        , 0.        , 0.        , 0.        ,\n",
       "        0.        , 0.        , 0.        , 0.        , 0.        ,\n",
       "        0.        , 0.        , 0.        ],\n",
       "       [0.        , 0.        , 0.        , 0.        , 0.        ,\n",
       "        0.        , 0.        , 0.        , 0.        , 0.        ,\n",
       "        0.        , 0.        , 0.        , 0.        , 0.        ,\n",
       "        0.        , 0.        , 0.        , 0.        , 0.        ,\n",
       "        0.        , 0.        , 0.        , 0.        , 0.        ,\n",
       "        0.        , 0.        , 0.        ],\n",
       "       [0.        , 0.        , 0.        , 0.        , 0.        ,\n",
       "        0.        , 0.        , 0.        , 0.        , 0.        ,\n",
       "        0.        , 0.        , 0.        , 0.        , 0.        ,\n",
       "        0.        , 0.        , 0.        , 0.        , 0.        ,\n",
       "        0.        , 0.        , 0.        , 0.        , 0.        ,\n",
       "        0.        , 0.        , 0.        ],\n",
       "       [0.        , 0.        , 0.        , 0.        , 0.        ,\n",
       "        0.        , 0.        , 0.        , 0.        , 0.        ,\n",
       "        0.        , 0.        , 0.        , 0.        , 0.        ,\n",
       "        0.        , 0.        , 0.        , 0.        , 0.        ,\n",
       "        0.        , 0.        , 0.        , 0.        , 0.        ,\n",
       "        0.        , 0.        , 0.        ],\n",
       "       [0.        , 0.        , 0.        , 0.        , 0.        ,\n",
       "        0.        , 0.        , 0.        , 0.        , 0.        ,\n",
       "        0.        , 0.        , 0.01176471, 0.07058824, 0.07058824,\n",
       "        0.07058824, 0.49411765, 0.53333333, 0.68627451, 0.10196078,\n",
       "        0.65098039, 1.        , 0.96862745, 0.49803922, 0.        ,\n",
       "        0.        , 0.        , 0.        ],\n",
       "       [0.        , 0.        , 0.        , 0.        , 0.        ,\n",
       "        0.        , 0.        , 0.        , 0.11764706, 0.14117647,\n",
       "        0.36862745, 0.60392157, 0.66666667, 0.99215686, 0.99215686,\n",
       "        0.99215686, 0.99215686, 0.99215686, 0.88235294, 0.6745098 ,\n",
       "        0.99215686, 0.94901961, 0.76470588, 0.25098039, 0.        ,\n",
       "        0.        , 0.        , 0.        ],\n",
       "       [0.        , 0.        , 0.        , 0.        , 0.        ,\n",
       "        0.        , 0.        , 0.19215686, 0.93333333, 0.99215686,\n",
       "        0.99215686, 0.99215686, 0.99215686, 0.99215686, 0.99215686,\n",
       "        0.99215686, 0.99215686, 0.98431373, 0.36470588, 0.32156863,\n",
       "        0.32156863, 0.21960784, 0.15294118, 0.        , 0.        ,\n",
       "        0.        , 0.        , 0.        ],\n",
       "       [0.        , 0.        , 0.        , 0.        , 0.        ,\n",
       "        0.        , 0.        , 0.07058824, 0.85882353, 0.99215686,\n",
       "        0.99215686, 0.99215686, 0.99215686, 0.99215686, 0.77647059,\n",
       "        0.71372549, 0.96862745, 0.94509804, 0.        , 0.        ,\n",
       "        0.        , 0.        , 0.        , 0.        , 0.        ,\n",
       "        0.        , 0.        , 0.        ],\n",
       "       [0.        , 0.        , 0.        , 0.        , 0.        ,\n",
       "        0.        , 0.        , 0.        , 0.31372549, 0.61176471,\n",
       "        0.41960784, 0.99215686, 0.99215686, 0.80392157, 0.04313725,\n",
       "        0.        , 0.16862745, 0.60392157, 0.        , 0.        ,\n",
       "        0.        , 0.        , 0.        , 0.        , 0.        ,\n",
       "        0.        , 0.        , 0.        ],\n",
       "       [0.        , 0.        , 0.        , 0.        , 0.        ,\n",
       "        0.        , 0.        , 0.        , 0.        , 0.05490196,\n",
       "        0.00392157, 0.60392157, 0.99215686, 0.35294118, 0.        ,\n",
       "        0.        , 0.        , 0.        , 0.        , 0.        ,\n",
       "        0.        , 0.        , 0.        , 0.        , 0.        ,\n",
       "        0.        , 0.        , 0.        ],\n",
       "       [0.        , 0.        , 0.        , 0.        , 0.        ,\n",
       "        0.        , 0.        , 0.        , 0.        , 0.        ,\n",
       "        0.        , 0.54509804, 0.99215686, 0.74509804, 0.00784314,\n",
       "        0.        , 0.        , 0.        , 0.        , 0.        ,\n",
       "        0.        , 0.        , 0.        , 0.        , 0.        ,\n",
       "        0.        , 0.        , 0.        ],\n",
       "       [0.        , 0.        , 0.        , 0.        , 0.        ,\n",
       "        0.        , 0.        , 0.        , 0.        , 0.        ,\n",
       "        0.        , 0.04313725, 0.74509804, 0.99215686, 0.2745098 ,\n",
       "        0.        , 0.        , 0.        , 0.        , 0.        ,\n",
       "        0.        , 0.        , 0.        , 0.        , 0.        ,\n",
       "        0.        , 0.        , 0.        ],\n",
       "       [0.        , 0.        , 0.        , 0.        , 0.        ,\n",
       "        0.        , 0.        , 0.        , 0.        , 0.        ,\n",
       "        0.        , 0.        , 0.1372549 , 0.94509804, 0.88235294,\n",
       "        0.62745098, 0.42352941, 0.00392157, 0.        , 0.        ,\n",
       "        0.        , 0.        , 0.        , 0.        , 0.        ,\n",
       "        0.        , 0.        , 0.        ],\n",
       "       [0.        , 0.        , 0.        , 0.        , 0.        ,\n",
       "        0.        , 0.        , 0.        , 0.        , 0.        ,\n",
       "        0.        , 0.        , 0.        , 0.31764706, 0.94117647,\n",
       "        0.99215686, 0.99215686, 0.46666667, 0.09803922, 0.        ,\n",
       "        0.        , 0.        , 0.        , 0.        , 0.        ,\n",
       "        0.        , 0.        , 0.        ],\n",
       "       [0.        , 0.        , 0.        , 0.        , 0.        ,\n",
       "        0.        , 0.        , 0.        , 0.        , 0.        ,\n",
       "        0.        , 0.        , 0.        , 0.        , 0.17647059,\n",
       "        0.72941176, 0.99215686, 0.99215686, 0.58823529, 0.10588235,\n",
       "        0.        , 0.        , 0.        , 0.        , 0.        ,\n",
       "        0.        , 0.        , 0.        ],\n",
       "       [0.        , 0.        , 0.        , 0.        , 0.        ,\n",
       "        0.        , 0.        , 0.        , 0.        , 0.        ,\n",
       "        0.        , 0.        , 0.        , 0.        , 0.        ,\n",
       "        0.0627451 , 0.36470588, 0.98823529, 0.99215686, 0.73333333,\n",
       "        0.        , 0.        , 0.        , 0.        , 0.        ,\n",
       "        0.        , 0.        , 0.        ],\n",
       "       [0.        , 0.        , 0.        , 0.        , 0.        ,\n",
       "        0.        , 0.        , 0.        , 0.        , 0.        ,\n",
       "        0.        , 0.        , 0.        , 0.        , 0.        ,\n",
       "        0.        , 0.        , 0.97647059, 0.99215686, 0.97647059,\n",
       "        0.25098039, 0.        , 0.        , 0.        , 0.        ,\n",
       "        0.        , 0.        , 0.        ],\n",
       "       [0.        , 0.        , 0.        , 0.        , 0.        ,\n",
       "        0.        , 0.        , 0.        , 0.        , 0.        ,\n",
       "        0.        , 0.        , 0.        , 0.        , 0.18039216,\n",
       "        0.50980392, 0.71764706, 0.99215686, 0.99215686, 0.81176471,\n",
       "        0.00784314, 0.        , 0.        , 0.        , 0.        ,\n",
       "        0.        , 0.        , 0.        ],\n",
       "       [0.        , 0.        , 0.        , 0.        , 0.        ,\n",
       "        0.        , 0.        , 0.        , 0.        , 0.        ,\n",
       "        0.        , 0.        , 0.15294118, 0.58039216, 0.89803922,\n",
       "        0.99215686, 0.99215686, 0.99215686, 0.98039216, 0.71372549,\n",
       "        0.        , 0.        , 0.        , 0.        , 0.        ,\n",
       "        0.        , 0.        , 0.        ],\n",
       "       [0.        , 0.        , 0.        , 0.        , 0.        ,\n",
       "        0.        , 0.        , 0.        , 0.        , 0.        ,\n",
       "        0.09411765, 0.44705882, 0.86666667, 0.99215686, 0.99215686,\n",
       "        0.99215686, 0.99215686, 0.78823529, 0.30588235, 0.        ,\n",
       "        0.        , 0.        , 0.        , 0.        , 0.        ,\n",
       "        0.        , 0.        , 0.        ],\n",
       "       [0.        , 0.        , 0.        , 0.        , 0.        ,\n",
       "        0.        , 0.        , 0.        , 0.09019608, 0.25882353,\n",
       "        0.83529412, 0.99215686, 0.99215686, 0.99215686, 0.99215686,\n",
       "        0.77647059, 0.31764706, 0.00784314, 0.        , 0.        ,\n",
       "        0.        , 0.        , 0.        , 0.        , 0.        ,\n",
       "        0.        , 0.        , 0.        ],\n",
       "       [0.        , 0.        , 0.        , 0.        , 0.        ,\n",
       "        0.        , 0.07058824, 0.67058824, 0.85882353, 0.99215686,\n",
       "        0.99215686, 0.99215686, 0.99215686, 0.76470588, 0.31372549,\n",
       "        0.03529412, 0.        , 0.        , 0.        , 0.        ,\n",
       "        0.        , 0.        , 0.        , 0.        , 0.        ,\n",
       "        0.        , 0.        , 0.        ],\n",
       "       [0.        , 0.        , 0.        , 0.        , 0.21568627,\n",
       "        0.6745098 , 0.88627451, 0.99215686, 0.99215686, 0.99215686,\n",
       "        0.99215686, 0.95686275, 0.52156863, 0.04313725, 0.        ,\n",
       "        0.        , 0.        , 0.        , 0.        , 0.        ,\n",
       "        0.        , 0.        , 0.        , 0.        , 0.        ,\n",
       "        0.        , 0.        , 0.        ],\n",
       "       [0.        , 0.        , 0.        , 0.        , 0.53333333,\n",
       "        0.99215686, 0.99215686, 0.99215686, 0.83137255, 0.52941176,\n",
       "        0.51764706, 0.0627451 , 0.        , 0.        , 0.        ,\n",
       "        0.        , 0.        , 0.        , 0.        , 0.        ,\n",
       "        0.        , 0.        , 0.        , 0.        , 0.        ,\n",
       "        0.        , 0.        , 0.        ],\n",
       "       [0.        , 0.        , 0.        , 0.        , 0.        ,\n",
       "        0.        , 0.        , 0.        , 0.        , 0.        ,\n",
       "        0.        , 0.        , 0.        , 0.        , 0.        ,\n",
       "        0.        , 0.        , 0.        , 0.        , 0.        ,\n",
       "        0.        , 0.        , 0.        , 0.        , 0.        ,\n",
       "        0.        , 0.        , 0.        ],\n",
       "       [0.        , 0.        , 0.        , 0.        , 0.        ,\n",
       "        0.        , 0.        , 0.        , 0.        , 0.        ,\n",
       "        0.        , 0.        , 0.        , 0.        , 0.        ,\n",
       "        0.        , 0.        , 0.        , 0.        , 0.        ,\n",
       "        0.        , 0.        , 0.        , 0.        , 0.        ,\n",
       "        0.        , 0.        , 0.        ],\n",
       "       [0.        , 0.        , 0.        , 0.        , 0.        ,\n",
       "        0.        , 0.        , 0.        , 0.        , 0.        ,\n",
       "        0.        , 0.        , 0.        , 0.        , 0.        ,\n",
       "        0.        , 0.        , 0.        , 0.        , 0.        ,\n",
       "        0.        , 0.        , 0.        , 0.        , 0.        ,\n",
       "        0.        , 0.        , 0.        ]])"
      ]
     },
     "execution_count": 7,
     "metadata": {},
     "output_type": "execute_result"
    }
   ],
   "source": [
    "X_train[0]"
   ]
  },
  {
   "cell_type": "code",
   "execution_count": 8,
   "metadata": {
    "id": "jr78UU88Rzm6"
   },
   "outputs": [
    {
     "name": "stdout",
     "output_type": "stream",
     "text": [
      "WARNING:tensorflow:From C:\\Users\\aditya.ghoshal\\AppData\\Local\\anaconda3\\Lib\\site-packages\\keras\\src\\backend.py:873: The name tf.get_default_graph is deprecated. Please use tf.compat.v1.get_default_graph instead.\n",
      "\n"
     ]
    }
   ],
   "source": [
    "# We usually use relu for our activation functions and the last one should be softmax\n",
    "# 128 ,23 and 10 are the nodes\n",
    "# For binary classification - signmoid & for multi class classification - softmax for the last hidden layer\n",
    "model = Sequential()\n",
    "\n",
    "model.add(Flatten(input_shape=(28,28)))\n",
    "model.add(Dense(128,activation='relu'))\n",
    "model.add(Dense(32,activation='relu'))\n",
    "model.add(Dense(10,activation='softmax'))"
   ]
  },
  {
   "cell_type": "code",
   "execution_count": 11,
   "metadata": {
    "colab": {
     "base_uri": "https://localhost:8080/"
    },
    "id": "ECogPfG5SmNI",
    "outputId": "d6478626-a942-432c-92cc-856e9cb0e59a"
   },
   "outputs": [
    {
     "name": "stdout",
     "output_type": "stream",
     "text": [
      "Model: \"sequential\"\n",
      "_________________________________________________________________\n",
      " Layer (type)                Output Shape              Param #   \n",
      "=================================================================\n",
      " flatten (Flatten)           (None, 784)               0         \n",
      "                                                                 \n",
      " dense (Dense)               (None, 128)               100480    \n",
      "                                                                 \n",
      " dense_1 (Dense)             (None, 32)                4128      \n",
      "                                                                 \n",
      " dense_2 (Dense)             (None, 10)                330       \n",
      "                                                                 \n",
      "=================================================================\n",
      "Total params: 104938 (409.91 KB)\n",
      "Trainable params: 104938 (409.91 KB)\n",
      "Non-trainable params: 0 (0.00 Byte)\n",
      "_________________________________________________________________\n"
     ]
    }
   ],
   "source": [
    "model.summary()"
   ]
  },
  {
   "cell_type": "code",
   "execution_count": 13,
   "metadata": {
    "id": "0yC51WgjSsLV"
   },
   "outputs": [],
   "source": [
    "model.compile(loss='sparse_categorical_crossentropy',optimizer='SGD',metrics=['accuracy'])"
   ]
  },
  {
   "cell_type": "code",
   "execution_count": 14,
   "metadata": {
    "colab": {
     "base_uri": "https://localhost:8080/"
    },
    "id": "L-fkwmIvWT8M",
    "outputId": "18eaeef9-9c17-4cae-b708-8f7787c86ed1"
   },
   "outputs": [
    {
     "name": "stdout",
     "output_type": "stream",
     "text": [
      "Epoch 1/25\n",
      "WARNING:tensorflow:From C:\\Users\\aditya.ghoshal\\AppData\\Local\\anaconda3\\Lib\\site-packages\\keras\\src\\utils\\tf_utils.py:492: The name tf.ragged.RaggedTensorValue is deprecated. Please use tf.compat.v1.ragged.RaggedTensorValue instead.\n",
      "\n",
      "WARNING:tensorflow:From C:\\Users\\aditya.ghoshal\\AppData\\Local\\anaconda3\\Lib\\site-packages\\keras\\src\\engine\\base_layer_utils.py:384: The name tf.executing_eagerly_outside_functions is deprecated. Please use tf.compat.v1.executing_eagerly_outside_functions instead.\n",
      "\n",
      "1500/1500 [==============================] - 4s 2ms/step - loss: 0.7400 - accuracy: 0.8015 - val_loss: 0.3369 - val_accuracy: 0.9045\n",
      "Epoch 2/25\n",
      "1500/1500 [==============================] - 3s 2ms/step - loss: 0.3196 - accuracy: 0.9082 - val_loss: 0.2642 - val_accuracy: 0.9252\n",
      "Epoch 3/25\n",
      "1500/1500 [==============================] - 3s 2ms/step - loss: 0.2648 - accuracy: 0.9240 - val_loss: 0.2317 - val_accuracy: 0.9348\n",
      "Epoch 4/25\n",
      "1500/1500 [==============================] - 3s 2ms/step - loss: 0.2302 - accuracy: 0.9338 - val_loss: 0.2099 - val_accuracy: 0.9402\n",
      "Epoch 5/25\n",
      "1500/1500 [==============================] - 3s 2ms/step - loss: 0.2047 - accuracy: 0.9419 - val_loss: 0.1938 - val_accuracy: 0.9460\n",
      "Epoch 6/25\n",
      "1500/1500 [==============================] - 4s 3ms/step - loss: 0.1832 - accuracy: 0.9472 - val_loss: 0.1736 - val_accuracy: 0.9494\n",
      "Epoch 7/25\n",
      "1500/1500 [==============================] - 3s 2ms/step - loss: 0.1663 - accuracy: 0.9521 - val_loss: 0.1598 - val_accuracy: 0.9548\n",
      "Epoch 8/25\n",
      "1500/1500 [==============================] - 3s 2ms/step - loss: 0.1515 - accuracy: 0.9568 - val_loss: 0.1519 - val_accuracy: 0.9576\n",
      "Epoch 9/25\n",
      "1500/1500 [==============================] - 3s 2ms/step - loss: 0.1383 - accuracy: 0.9606 - val_loss: 0.1417 - val_accuracy: 0.9597\n",
      "Epoch 10/25\n",
      "1500/1500 [==============================] - 3s 2ms/step - loss: 0.1280 - accuracy: 0.9634 - val_loss: 0.1383 - val_accuracy: 0.9607\n",
      "Epoch 11/25\n",
      "1500/1500 [==============================] - 3s 2ms/step - loss: 0.1177 - accuracy: 0.9659 - val_loss: 0.1293 - val_accuracy: 0.9624\n",
      "Epoch 12/25\n",
      "1500/1500 [==============================] - 3s 2ms/step - loss: 0.1095 - accuracy: 0.9691 - val_loss: 0.1214 - val_accuracy: 0.9663\n",
      "Epoch 13/25\n",
      "1500/1500 [==============================] - 3s 2ms/step - loss: 0.1017 - accuracy: 0.9713 - val_loss: 0.1232 - val_accuracy: 0.9653\n",
      "Epoch 14/25\n",
      "1500/1500 [==============================] - 3s 2ms/step - loss: 0.0953 - accuracy: 0.9731 - val_loss: 0.1173 - val_accuracy: 0.9668\n",
      "Epoch 15/25\n",
      "1500/1500 [==============================] - 3s 2ms/step - loss: 0.0894 - accuracy: 0.9748 - val_loss: 0.1116 - val_accuracy: 0.9679\n",
      "Epoch 16/25\n",
      "1500/1500 [==============================] - 3s 2ms/step - loss: 0.0842 - accuracy: 0.9757 - val_loss: 0.1091 - val_accuracy: 0.9696\n",
      "Epoch 17/25\n",
      "1500/1500 [==============================] - 3s 2ms/step - loss: 0.0790 - accuracy: 0.9778 - val_loss: 0.1049 - val_accuracy: 0.9699\n",
      "Epoch 18/25\n",
      "1500/1500 [==============================] - 3s 2ms/step - loss: 0.0751 - accuracy: 0.9788 - val_loss: 0.1028 - val_accuracy: 0.9705\n",
      "Epoch 19/25\n",
      "1500/1500 [==============================] - 3s 2ms/step - loss: 0.0703 - accuracy: 0.9806 - val_loss: 0.1013 - val_accuracy: 0.9705\n",
      "Epoch 20/25\n",
      "1500/1500 [==============================] - 3s 2ms/step - loss: 0.0665 - accuracy: 0.9815 - val_loss: 0.0999 - val_accuracy: 0.9711\n",
      "Epoch 21/25\n",
      "1500/1500 [==============================] - 3s 2ms/step - loss: 0.0632 - accuracy: 0.9827 - val_loss: 0.0981 - val_accuracy: 0.9720\n",
      "Epoch 22/25\n",
      "1500/1500 [==============================] - 3s 2ms/step - loss: 0.0602 - accuracy: 0.9834 - val_loss: 0.0955 - val_accuracy: 0.9728\n",
      "Epoch 23/25\n",
      "1500/1500 [==============================] - 3s 2ms/step - loss: 0.0568 - accuracy: 0.9849 - val_loss: 0.0964 - val_accuracy: 0.9730\n",
      "Epoch 24/25\n",
      "1500/1500 [==============================] - 3s 2ms/step - loss: 0.0541 - accuracy: 0.9851 - val_loss: 0.0937 - val_accuracy: 0.9721\n",
      "Epoch 25/25\n",
      "1500/1500 [==============================] - 3s 2ms/step - loss: 0.0513 - accuracy: 0.9864 - val_loss: 0.0943 - val_accuracy: 0.9728\n"
     ]
    }
   ],
   "source": [
    "history = model.fit(X_train,y_train,epochs=25,validation_split=0.2)"
   ]
  },
  {
   "cell_type": "code",
   "execution_count": 15,
   "metadata": {
    "colab": {
     "base_uri": "https://localhost:8080/"
    },
    "id": "CazuknkLW_LY",
    "outputId": "a9711c64-9bb6-42fa-defb-f54ec6ef34e7"
   },
   "outputs": [
    {
     "name": "stdout",
     "output_type": "stream",
     "text": [
      "313/313 [==============================] - 1s 1ms/step\n"
     ]
    }
   ],
   "source": [
    "y_prob = model.predict(X_test)"
   ]
  },
  {
   "cell_type": "code",
   "execution_count": 16,
   "metadata": {
    "id": "5nELQpFrXQIi"
   },
   "outputs": [],
   "source": [
    "y_pred = y_prob.argmax(axis=1)"
   ]
  },
  {
   "cell_type": "code",
   "execution_count": 17,
   "metadata": {
    "colab": {
     "base_uri": "https://localhost:8080/"
    },
    "id": "jcyA9XVHXY6o",
    "outputId": "b66309dc-b1c5-42e0-f3ad-80ba9b3554f6"
   },
   "outputs": [
    {
     "data": {
      "text/plain": [
       "0.9722"
      ]
     },
     "execution_count": 17,
     "metadata": {},
     "output_type": "execute_result"
    }
   ],
   "source": [
    "from sklearn.metrics import accuracy_score\n",
    "accuracy_score(y_test,y_pred)"
   ]
  },
  {
   "cell_type": "code",
   "execution_count": 18,
   "metadata": {
    "colab": {
     "base_uri": "https://localhost:8080/",
     "height": 451
    },
    "id": "NT2HxBnDXv_V",
    "outputId": "946f599d-640a-4912-e84f-faa39cdaea50"
   },
   "outputs": [
    {
     "data": {
      "text/plain": [
       "[<matplotlib.lines.Line2D at 0x1e33c923450>]"
      ]
     },
     "execution_count": 18,
     "metadata": {},
     "output_type": "execute_result"
    },
    {
     "data": {
      "image/png": "[encoded data removed]",
      "text/plain": [
       "<Figure size 640x480 with 1 Axes>"
      ]
     },
     "metadata": {},
     "output_type": "display_data"
    }
   ],
   "source": [
    "plt.plot(history.history['loss'])\n",
    "plt.plot(history.history['val_loss'])"
   ]
  },
  {
   "cell_type": "code",
   "execution_count": 19,
   "metadata": {
    "colab": {
     "base_uri": "https://localhost:8080/",
     "height": 448
    },
    "id": "Ln1DIjDOY8E7",
    "outputId": "767e366b-194f-4387-ab8d-6ed5a9e10ce4"
   },
   "outputs": [
    {
     "data": {
      "text/plain": [
       "[<matplotlib.lines.Line2D at 0x1e33c9ad150>]"
      ]
     },
     "execution_count": 19,
     "metadata": {},
     "output_type": "execute_result"
    },
    {
     "data": {
      "image/png": "[encoded data removed]",
      "text/plain": [
       "<Figure size 640x480 with 1 Axes>"
      ]
     },
     "metadata": {},
     "output_type": "display_data"
    }
   ],
   "source": [
    "plt.plot(history.history['accuracy'])\n",
    "plt.plot(history.history['val_accuracy'])"
   ]
  },
  {
   "cell_type": "code",
   "execution_count": 22,
   "metadata": {
    "colab": {
     "base_uri": "https://localhost:8080/",
     "height": 448
    },
    "id": "F0eTtwmSZGQn",
    "outputId": "0f55d694-06e5-4ec1-b2af-9b140822f3a6"
   },
   "outputs": [
    {
     "data": {
      "text/plain": [
       "<matplotlib.image.AxesImage at 0x1e33cbb0b10>"
      ]
     },
     "execution_count": 22,
     "metadata": {},
     "output_type": "execute_result"
    },
    {
     "data": {
      "image/png": "[encoded data removed]",
      "text/plain": [
       "<Figure size 640x480 with 1 Axes>"
      ]
     },
     "metadata": {},
     "output_type": "display_data"
    }
   ],
   "source": [
    "plt.imshow(X_test[879])"
   ]
  },
  {
   "cell_type": "code",
   "execution_count": 23,
   "metadata": {
    "colab": {
     "base_uri": "https://localhost:8080/"
    },
    "id": "mBKWjIxealMY",
    "outputId": "f3d471ee-7020-4ac1-c47a-f1956fce0c75"
   },
   "outputs": [
    {
     "name": "stdout",
     "output_type": "stream",
     "text": [
      "1/1 [==============================] - 0s 29ms/step\n"
     ]
    },
    {
     "data": {
      "text/plain": [
       "array([8], dtype=int64)"
      ]
     },
     "execution_count": 23,
     "metadata": {},
     "output_type": "execute_result"
    }
   ],
   "source": [
    "# Testing the model\n",
    "model.predict(X_test[879].reshape(1,28,28)).argmax(axis=1)"
   ]
  },
  {
   "cell_type": "code",
   "execution_count": null,
   "metadata": {
    "id": "onfLjtuZatoe"
   },
   "outputs": [],
   "source": []
  }
 ],
 "metadata": {
  "colab": {
   "provenance": []
  },
  "kernelspec": {
   "display_name": "Python 3 (ipykernel)",
   "language": "python",
   "name": "python3"
  },
  "language_info": {
   "codemirror_mode": {
    "name": "ipython",
    "version": 3
   },
   "file_extension": ".py",
   "mimetype": "text/x-python",
   "name": "python",
   "nbconvert_exporter": "python",
   "pygments_lexer": "ipython3",
   "version": "3.11.5"
  }
 },
 "nbformat": 4,
 "nbformat_minor": 1
}
